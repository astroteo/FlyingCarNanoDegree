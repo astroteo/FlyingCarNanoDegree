{
 "cells": [
  {
   "cell_type": "markdown",
   "metadata": {},
   "source": [
    "## Breadth First Seach"
   ]
  },
  {
   "cell_type": "code",
   "execution_count": 1,
   "metadata": {},
   "outputs": [],
   "source": [
    "# Import numpy, Enum and Queue\n",
    "import numpy as np\n",
    "from enum import Enum\n",
    "from queue import Queue"
   ]
  },
  {
   "cell_type": "code",
   "execution_count": 2,
   "metadata": {},
   "outputs": [],
   "source": [
    "class Action(Enum): \n",
    "    # Actions are tuples corresponding to movements in (i, j)\n",
    "    LEFT = (0, -1)\n",
    "    RIGHT = (0, 1)\n",
    "    UP = (-1, 0)\n",
    "    DOWN = (1, 0)\n",
    "    \n",
    "    # Define string characters for each action\n",
    "    def __str__(self):\n",
    "        if self == self.LEFT:\n",
    "            return '<'\n",
    "        elif self == self.RIGHT:\n",
    "            return '>'\n",
    "        elif self == self.UP:\n",
    "            return '^'\n",
    "        elif self == self.DOWN:\n",
    "            return 'v'"
   ]
  },
  {
   "cell_type": "code",
   "execution_count": 3,
   "metadata": {},
   "outputs": [],
   "source": [
    "# Define a start and goal location\n",
    "start = (0, 0)\n",
    "goal = (4, 4)\n",
    "# Define your grid-based state space of obstacles and free space\n",
    "grid = np.array([\n",
    "    [0, 1, 0, 0, 0, 0],\n",
    "    [0, 1, 0, 0, 0, 0],\n",
    "    [0, 1, 0, 1, 0, 0],\n",
    "    [0, 0, 0, 1, 1, 0],\n",
    "    [0, 0, 0, 1, 0, 0],\n",
    "])"
   ]
  },
  {
   "cell_type": "code",
   "execution_count": 4,
   "metadata": {},
   "outputs": [],
   "source": [
    "#Define a function that returns a list of valid actions \n",
    "# through the grid from the current node\n",
    "def valid_actions(grid, current_node):\n",
    "    \"\"\"\n",
    "    Returns a list of valid actions given a grid and current node.\n",
    "    \"\"\"\n",
    "    # First define a list of all possible actions\n",
    "    valid = [Action.UP, Action.LEFT, Action.RIGHT, Action.DOWN]\n",
    "    # Retrieve the grid shape and position of the current node\n",
    "    n, m = grid.shape[0] - 1, grid.shape[1] - 1\n",
    "    x, y = current_node\n",
    "    \n",
    "    # check if the node is off the grid or it's an obstacle\n",
    "    # If it is either, remove the action that takes you there\n",
    "    if x - 1 < 0 or grid[x-1, y] == 1:\n",
    "        valid.remove(Action.UP)\n",
    "    if x + 1 > n or grid[x+1, y] == 1:\n",
    "        valid.remove(Action.DOWN)\n",
    "    if y - 1 < 0 or grid[x, y-1] == 1:\n",
    "        valid.remove(Action.LEFT)\n",
    "    if y + 1 > m or grid[x, y+1] == 1:\n",
    "        valid.remove(Action.RIGHT)\n",
    "        \n",
    "    return valid"
   ]
  },
  {
   "cell_type": "code",
   "execution_count": 5,
   "metadata": {},
   "outputs": [],
   "source": [
    "#Define a function to visualize the path\n",
    "def visualize_path(grid, path, start):\n",
    "    \"\"\"\n",
    "    Given a grid, path and start position\n",
    "    return visual of the path to the goal.\n",
    "    \n",
    "    'S' -> start \n",
    "    'G' -> goal\n",
    "    'O' -> obstacle\n",
    "    ' ' -> empty\n",
    "    \"\"\"\n",
    "    # Define a grid of string characters for visualization\n",
    "    sgrid = np.zeros(np.shape(grid), dtype=np.str)\n",
    "    sgrid[:] = ' '\n",
    "    sgrid[grid[:] == 1] = 'O'\n",
    "    \n",
    "    pos = start\n",
    "    # Fill in the string grid\n",
    "    for a in path:\n",
    "        da = a.value\n",
    "        sgrid[pos[0], pos[1]] = str(a)\n",
    "        pos = (pos[0] + da[0], pos[1] + da[1])\n",
    "    sgrid[pos[0], pos[1]] = 'G'\n",
    "    sgrid[start[0], start[1]] = 'S'  \n",
    "    return sgrid"
   ]
  },
  {
   "cell_type": "code",
   "execution_count": 11,
   "metadata": {},
   "outputs": [],
   "source": [
    "# Define your breadth-first search function here\n",
    "def breadth_first(grid, start, goal):\n",
    "\n",
    "    # TODO: Replace the None values for \n",
    "        # \"queue\" and \"visited\" with data structure objects\n",
    "        # and add the start position to each \n",
    "    q = Queue() \n",
    "    visited = set([])\n",
    "    branch = {}\n",
    "    found = False\n",
    "    branch_it_cnt = {}\n",
    "    \n",
    "    q.put(start)\n",
    "    it_cnt = 0;\n",
    "    \n",
    "    # Run loop while queue is not empty\n",
    "    while not q.empty(): # TODO: replace True with q.empty():\n",
    "        # TODO: Replace \"None\" to remove the \n",
    "            # pop first element from the queue => evaluated and removed\n",
    "        current_node = q.get()\n",
    "        visited.add(current_node)\n",
    "        \n",
    "        # TODO: Replace \"False\" to check if the current \n",
    "            # node corresponds to the goal state\n",
    "        if current_node == goal: \n",
    "            print('Found a path.')\n",
    "            found = True\n",
    "            #branch[current_node] = list(q.queue)\n",
    "            break\n",
    "        else:\n",
    "            # Iterate through each of the new nodes and:\n",
    "            # If the node has not been visited you will need to\n",
    "            # 1. Mark it as visited  \n",
    "            for action in valid_actions(grid,current_node):\n",
    "                #print(current_node)\n",
    "                \n",
    "                node = (current_node[0] + action.value[0], \n",
    "                        current_node[1] + action.value[1])\n",
    "                if node in visited:\n",
    "                    pass\n",
    "                else:\n",
    "                    visited.add(node)\n",
    "                    q.put(node)\n",
    "                    branch[node] = [current_node, action]\n",
    "                    branch_it_cnt[node] = [current_node, action,it_cnt]\n",
    "            print(\"-------------------\")\n",
    "            print(sorted(branch_it_cnt.items(), key = lambda kv: kv[1][2]))\n",
    "            print(\"-------------------\")\n",
    "            it_cnt += 1\n",
    "            \n",
    "    \n",
    "    # Recreate the Path \n",
    "    path = []\n",
    "    print(branch)\n",
    "    if found:\n",
    "        # retrace steps\n",
    "        path = []\n",
    "        n = goal\n",
    "        print(n)\n",
    "        print(branch[n])\n",
    "        while branch[n][0] != start:\n",
    "            print(n)\n",
    "            path.append(branch[n][1])\n",
    "            n = branch[n][0]\n",
    "        path.append(branch[n][1])\n",
    "            \n",
    "    return path[::-1]"
   ]
  },
  {
   "cell_type": "code",
   "execution_count": 12,
   "metadata": {},
   "outputs": [
    {
     "name": "stdout",
     "output_type": "stream",
     "text": [
      "-------------------\n",
      "[((1, 0), [(0, 0), <Action.DOWN: (1, 0)>, 0])]\n",
      "-------------------\n",
      "-------------------\n",
      "[((1, 0), [(0, 0), <Action.DOWN: (1, 0)>, 0]), ((2, 0), [(1, 0), <Action.DOWN: (1, 0)>, 1])]\n",
      "-------------------\n",
      "-------------------\n",
      "[((1, 0), [(0, 0), <Action.DOWN: (1, 0)>, 0]), ((2, 0), [(1, 0), <Action.DOWN: (1, 0)>, 1]), ((3, 0), [(2, 0), <Action.DOWN: (1, 0)>, 2])]\n",
      "-------------------\n",
      "-------------------\n",
      "[((1, 0), [(0, 0), <Action.DOWN: (1, 0)>, 0]), ((2, 0), [(1, 0), <Action.DOWN: (1, 0)>, 1]), ((3, 0), [(2, 0), <Action.DOWN: (1, 0)>, 2]), ((3, 1), [(3, 0), <Action.RIGHT: (0, 1)>, 3]), ((4, 0), [(3, 0), <Action.DOWN: (1, 0)>, 3])]\n",
      "-------------------\n",
      "-------------------\n",
      "[((1, 0), [(0, 0), <Action.DOWN: (1, 0)>, 0]), ((2, 0), [(1, 0), <Action.DOWN: (1, 0)>, 1]), ((3, 0), [(2, 0), <Action.DOWN: (1, 0)>, 2]), ((3, 1), [(3, 0), <Action.RIGHT: (0, 1)>, 3]), ((4, 0), [(3, 0), <Action.DOWN: (1, 0)>, 3]), ((3, 2), [(3, 1), <Action.RIGHT: (0, 1)>, 4]), ((4, 1), [(3, 1), <Action.DOWN: (1, 0)>, 4])]\n",
      "-------------------\n",
      "-------------------\n",
      "[((1, 0), [(0, 0), <Action.DOWN: (1, 0)>, 0]), ((2, 0), [(1, 0), <Action.DOWN: (1, 0)>, 1]), ((3, 0), [(2, 0), <Action.DOWN: (1, 0)>, 2]), ((3, 1), [(3, 0), <Action.RIGHT: (0, 1)>, 3]), ((4, 0), [(3, 0), <Action.DOWN: (1, 0)>, 3]), ((3, 2), [(3, 1), <Action.RIGHT: (0, 1)>, 4]), ((4, 1), [(3, 1), <Action.DOWN: (1, 0)>, 4])]\n",
      "-------------------\n",
      "-------------------\n",
      "[((1, 0), [(0, 0), <Action.DOWN: (1, 0)>, 0]), ((2, 0), [(1, 0), <Action.DOWN: (1, 0)>, 1]), ((3, 0), [(2, 0), <Action.DOWN: (1, 0)>, 2]), ((3, 1), [(3, 0), <Action.RIGHT: (0, 1)>, 3]), ((4, 0), [(3, 0), <Action.DOWN: (1, 0)>, 3]), ((3, 2), [(3, 1), <Action.RIGHT: (0, 1)>, 4]), ((4, 1), [(3, 1), <Action.DOWN: (1, 0)>, 4]), ((2, 2), [(3, 2), <Action.UP: (-1, 0)>, 6]), ((4, 2), [(3, 2), <Action.DOWN: (1, 0)>, 6])]\n",
      "-------------------\n",
      "-------------------\n",
      "[((1, 0), [(0, 0), <Action.DOWN: (1, 0)>, 0]), ((2, 0), [(1, 0), <Action.DOWN: (1, 0)>, 1]), ((3, 0), [(2, 0), <Action.DOWN: (1, 0)>, 2]), ((3, 1), [(3, 0), <Action.RIGHT: (0, 1)>, 3]), ((4, 0), [(3, 0), <Action.DOWN: (1, 0)>, 3]), ((3, 2), [(3, 1), <Action.RIGHT: (0, 1)>, 4]), ((4, 1), [(3, 1), <Action.DOWN: (1, 0)>, 4]), ((2, 2), [(3, 2), <Action.UP: (-1, 0)>, 6]), ((4, 2), [(3, 2), <Action.DOWN: (1, 0)>, 6])]\n",
      "-------------------\n",
      "-------------------\n",
      "[((1, 0), [(0, 0), <Action.DOWN: (1, 0)>, 0]), ((2, 0), [(1, 0), <Action.DOWN: (1, 0)>, 1]), ((3, 0), [(2, 0), <Action.DOWN: (1, 0)>, 2]), ((3, 1), [(3, 0), <Action.RIGHT: (0, 1)>, 3]), ((4, 0), [(3, 0), <Action.DOWN: (1, 0)>, 3]), ((3, 2), [(3, 1), <Action.RIGHT: (0, 1)>, 4]), ((4, 1), [(3, 1), <Action.DOWN: (1, 0)>, 4]), ((2, 2), [(3, 2), <Action.UP: (-1, 0)>, 6]), ((4, 2), [(3, 2), <Action.DOWN: (1, 0)>, 6]), ((1, 2), [(2, 2), <Action.UP: (-1, 0)>, 8])]\n",
      "-------------------\n",
      "-------------------\n",
      "[((1, 0), [(0, 0), <Action.DOWN: (1, 0)>, 0]), ((2, 0), [(1, 0), <Action.DOWN: (1, 0)>, 1]), ((3, 0), [(2, 0), <Action.DOWN: (1, 0)>, 2]), ((3, 1), [(3, 0), <Action.RIGHT: (0, 1)>, 3]), ((4, 0), [(3, 0), <Action.DOWN: (1, 0)>, 3]), ((3, 2), [(3, 1), <Action.RIGHT: (0, 1)>, 4]), ((4, 1), [(3, 1), <Action.DOWN: (1, 0)>, 4]), ((2, 2), [(3, 2), <Action.UP: (-1, 0)>, 6]), ((4, 2), [(3, 2), <Action.DOWN: (1, 0)>, 6]), ((1, 2), [(2, 2), <Action.UP: (-1, 0)>, 8])]\n",
      "-------------------\n",
      "-------------------\n",
      "[((1, 0), [(0, 0), <Action.DOWN: (1, 0)>, 0]), ((2, 0), [(1, 0), <Action.DOWN: (1, 0)>, 1]), ((3, 0), [(2, 0), <Action.DOWN: (1, 0)>, 2]), ((3, 1), [(3, 0), <Action.RIGHT: (0, 1)>, 3]), ((4, 0), [(3, 0), <Action.DOWN: (1, 0)>, 3]), ((3, 2), [(3, 1), <Action.RIGHT: (0, 1)>, 4]), ((4, 1), [(3, 1), <Action.DOWN: (1, 0)>, 4]), ((2, 2), [(3, 2), <Action.UP: (-1, 0)>, 6]), ((4, 2), [(3, 2), <Action.DOWN: (1, 0)>, 6]), ((1, 2), [(2, 2), <Action.UP: (-1, 0)>, 8]), ((1, 3), [(1, 2), <Action.RIGHT: (0, 1)>, 10]), ((0, 2), [(1, 2), <Action.UP: (-1, 0)>, 10])]\n",
      "-------------------\n",
      "-------------------\n",
      "[((1, 0), [(0, 0), <Action.DOWN: (1, 0)>, 0]), ((2, 0), [(1, 0), <Action.DOWN: (1, 0)>, 1]), ((3, 0), [(2, 0), <Action.DOWN: (1, 0)>, 2]), ((3, 1), [(3, 0), <Action.RIGHT: (0, 1)>, 3]), ((4, 0), [(3, 0), <Action.DOWN: (1, 0)>, 3]), ((3, 2), [(3, 1), <Action.RIGHT: (0, 1)>, 4]), ((4, 1), [(3, 1), <Action.DOWN: (1, 0)>, 4]), ((2, 2), [(3, 2), <Action.UP: (-1, 0)>, 6]), ((4, 2), [(3, 2), <Action.DOWN: (1, 0)>, 6]), ((1, 2), [(2, 2), <Action.UP: (-1, 0)>, 8]), ((1, 3), [(1, 2), <Action.RIGHT: (0, 1)>, 10]), ((0, 2), [(1, 2), <Action.UP: (-1, 0)>, 10]), ((0, 3), [(0, 2), <Action.RIGHT: (0, 1)>, 11])]\n",
      "-------------------\n",
      "-------------------\n",
      "[((1, 0), [(0, 0), <Action.DOWN: (1, 0)>, 0]), ((2, 0), [(1, 0), <Action.DOWN: (1, 0)>, 1]), ((3, 0), [(2, 0), <Action.DOWN: (1, 0)>, 2]), ((3, 1), [(3, 0), <Action.RIGHT: (0, 1)>, 3]), ((4, 0), [(3, 0), <Action.DOWN: (1, 0)>, 3]), ((3, 2), [(3, 1), <Action.RIGHT: (0, 1)>, 4]), ((4, 1), [(3, 1), <Action.DOWN: (1, 0)>, 4]), ((2, 2), [(3, 2), <Action.UP: (-1, 0)>, 6]), ((4, 2), [(3, 2), <Action.DOWN: (1, 0)>, 6]), ((1, 2), [(2, 2), <Action.UP: (-1, 0)>, 8]), ((1, 3), [(1, 2), <Action.RIGHT: (0, 1)>, 10]), ((0, 2), [(1, 2), <Action.UP: (-1, 0)>, 10]), ((0, 3), [(0, 2), <Action.RIGHT: (0, 1)>, 11]), ((1, 4), [(1, 3), <Action.RIGHT: (0, 1)>, 12])]\n",
      "-------------------\n",
      "-------------------\n",
      "[((1, 0), [(0, 0), <Action.DOWN: (1, 0)>, 0]), ((2, 0), [(1, 0), <Action.DOWN: (1, 0)>, 1]), ((3, 0), [(2, 0), <Action.DOWN: (1, 0)>, 2]), ((3, 1), [(3, 0), <Action.RIGHT: (0, 1)>, 3]), ((4, 0), [(3, 0), <Action.DOWN: (1, 0)>, 3]), ((3, 2), [(3, 1), <Action.RIGHT: (0, 1)>, 4]), ((4, 1), [(3, 1), <Action.DOWN: (1, 0)>, 4]), ((2, 2), [(3, 2), <Action.UP: (-1, 0)>, 6]), ((4, 2), [(3, 2), <Action.DOWN: (1, 0)>, 6]), ((1, 2), [(2, 2), <Action.UP: (-1, 0)>, 8]), ((1, 3), [(1, 2), <Action.RIGHT: (0, 1)>, 10]), ((0, 2), [(1, 2), <Action.UP: (-1, 0)>, 10]), ((0, 3), [(0, 2), <Action.RIGHT: (0, 1)>, 11]), ((1, 4), [(1, 3), <Action.RIGHT: (0, 1)>, 12]), ((0, 4), [(0, 3), <Action.RIGHT: (0, 1)>, 13])]\n",
      "-------------------\n",
      "-------------------\n",
      "[((1, 0), [(0, 0), <Action.DOWN: (1, 0)>, 0]), ((2, 0), [(1, 0), <Action.DOWN: (1, 0)>, 1]), ((3, 0), [(2, 0), <Action.DOWN: (1, 0)>, 2]), ((3, 1), [(3, 0), <Action.RIGHT: (0, 1)>, 3]), ((4, 0), [(3, 0), <Action.DOWN: (1, 0)>, 3]), ((3, 2), [(3, 1), <Action.RIGHT: (0, 1)>, 4]), ((4, 1), [(3, 1), <Action.DOWN: (1, 0)>, 4]), ((2, 2), [(3, 2), <Action.UP: (-1, 0)>, 6]), ((4, 2), [(3, 2), <Action.DOWN: (1, 0)>, 6]), ((1, 2), [(2, 2), <Action.UP: (-1, 0)>, 8]), ((1, 3), [(1, 2), <Action.RIGHT: (0, 1)>, 10]), ((0, 2), [(1, 2), <Action.UP: (-1, 0)>, 10]), ((0, 3), [(0, 2), <Action.RIGHT: (0, 1)>, 11]), ((1, 4), [(1, 3), <Action.RIGHT: (0, 1)>, 12]), ((0, 4), [(0, 3), <Action.RIGHT: (0, 1)>, 13]), ((1, 5), [(1, 4), <Action.RIGHT: (0, 1)>, 14]), ((2, 4), [(1, 4), <Action.DOWN: (1, 0)>, 14])]\n",
      "-------------------\n",
      "-------------------\n",
      "[((1, 0), [(0, 0), <Action.DOWN: (1, 0)>, 0]), ((2, 0), [(1, 0), <Action.DOWN: (1, 0)>, 1]), ((3, 0), [(2, 0), <Action.DOWN: (1, 0)>, 2]), ((3, 1), [(3, 0), <Action.RIGHT: (0, 1)>, 3]), ((4, 0), [(3, 0), <Action.DOWN: (1, 0)>, 3]), ((3, 2), [(3, 1), <Action.RIGHT: (0, 1)>, 4]), ((4, 1), [(3, 1), <Action.DOWN: (1, 0)>, 4]), ((2, 2), [(3, 2), <Action.UP: (-1, 0)>, 6]), ((4, 2), [(3, 2), <Action.DOWN: (1, 0)>, 6]), ((1, 2), [(2, 2), <Action.UP: (-1, 0)>, 8]), ((1, 3), [(1, 2), <Action.RIGHT: (0, 1)>, 10]), ((0, 2), [(1, 2), <Action.UP: (-1, 0)>, 10]), ((0, 3), [(0, 2), <Action.RIGHT: (0, 1)>, 11]), ((1, 4), [(1, 3), <Action.RIGHT: (0, 1)>, 12]), ((0, 4), [(0, 3), <Action.RIGHT: (0, 1)>, 13]), ((1, 5), [(1, 4), <Action.RIGHT: (0, 1)>, 14]), ((2, 4), [(1, 4), <Action.DOWN: (1, 0)>, 14]), ((0, 5), [(0, 4), <Action.RIGHT: (0, 1)>, 15])]\n",
      "-------------------\n",
      "-------------------\n",
      "[((1, 0), [(0, 0), <Action.DOWN: (1, 0)>, 0]), ((2, 0), [(1, 0), <Action.DOWN: (1, 0)>, 1]), ((3, 0), [(2, 0), <Action.DOWN: (1, 0)>, 2]), ((3, 1), [(3, 0), <Action.RIGHT: (0, 1)>, 3]), ((4, 0), [(3, 0), <Action.DOWN: (1, 0)>, 3]), ((3, 2), [(3, 1), <Action.RIGHT: (0, 1)>, 4]), ((4, 1), [(3, 1), <Action.DOWN: (1, 0)>, 4]), ((2, 2), [(3, 2), <Action.UP: (-1, 0)>, 6]), ((4, 2), [(3, 2), <Action.DOWN: (1, 0)>, 6]), ((1, 2), [(2, 2), <Action.UP: (-1, 0)>, 8]), ((1, 3), [(1, 2), <Action.RIGHT: (0, 1)>, 10]), ((0, 2), [(1, 2), <Action.UP: (-1, 0)>, 10]), ((0, 3), [(0, 2), <Action.RIGHT: (0, 1)>, 11]), ((1, 4), [(1, 3), <Action.RIGHT: (0, 1)>, 12]), ((0, 4), [(0, 3), <Action.RIGHT: (0, 1)>, 13]), ((1, 5), [(1, 4), <Action.RIGHT: (0, 1)>, 14]), ((2, 4), [(1, 4), <Action.DOWN: (1, 0)>, 14]), ((0, 5), [(0, 4), <Action.RIGHT: (0, 1)>, 15]), ((2, 5), [(1, 5), <Action.DOWN: (1, 0)>, 16])]\n",
      "-------------------\n",
      "-------------------\n",
      "[((1, 0), [(0, 0), <Action.DOWN: (1, 0)>, 0]), ((2, 0), [(1, 0), <Action.DOWN: (1, 0)>, 1]), ((3, 0), [(2, 0), <Action.DOWN: (1, 0)>, 2]), ((3, 1), [(3, 0), <Action.RIGHT: (0, 1)>, 3]), ((4, 0), [(3, 0), <Action.DOWN: (1, 0)>, 3]), ((3, 2), [(3, 1), <Action.RIGHT: (0, 1)>, 4]), ((4, 1), [(3, 1), <Action.DOWN: (1, 0)>, 4]), ((2, 2), [(3, 2), <Action.UP: (-1, 0)>, 6]), ((4, 2), [(3, 2), <Action.DOWN: (1, 0)>, 6]), ((1, 2), [(2, 2), <Action.UP: (-1, 0)>, 8]), ((1, 3), [(1, 2), <Action.RIGHT: (0, 1)>, 10]), ((0, 2), [(1, 2), <Action.UP: (-1, 0)>, 10]), ((0, 3), [(0, 2), <Action.RIGHT: (0, 1)>, 11]), ((1, 4), [(1, 3), <Action.RIGHT: (0, 1)>, 12]), ((0, 4), [(0, 3), <Action.RIGHT: (0, 1)>, 13]), ((1, 5), [(1, 4), <Action.RIGHT: (0, 1)>, 14]), ((2, 4), [(1, 4), <Action.DOWN: (1, 0)>, 14]), ((0, 5), [(0, 4), <Action.RIGHT: (0, 1)>, 15]), ((2, 5), [(1, 5), <Action.DOWN: (1, 0)>, 16])]\n",
      "-------------------\n",
      "-------------------\n",
      "[((1, 0), [(0, 0), <Action.DOWN: (1, 0)>, 0]), ((2, 0), [(1, 0), <Action.DOWN: (1, 0)>, 1]), ((3, 0), [(2, 0), <Action.DOWN: (1, 0)>, 2]), ((3, 1), [(3, 0), <Action.RIGHT: (0, 1)>, 3]), ((4, 0), [(3, 0), <Action.DOWN: (1, 0)>, 3]), ((3, 2), [(3, 1), <Action.RIGHT: (0, 1)>, 4]), ((4, 1), [(3, 1), <Action.DOWN: (1, 0)>, 4]), ((2, 2), [(3, 2), <Action.UP: (-1, 0)>, 6]), ((4, 2), [(3, 2), <Action.DOWN: (1, 0)>, 6]), ((1, 2), [(2, 2), <Action.UP: (-1, 0)>, 8]), ((1, 3), [(1, 2), <Action.RIGHT: (0, 1)>, 10]), ((0, 2), [(1, 2), <Action.UP: (-1, 0)>, 10]), ((0, 3), [(0, 2), <Action.RIGHT: (0, 1)>, 11]), ((1, 4), [(1, 3), <Action.RIGHT: (0, 1)>, 12]), ((0, 4), [(0, 3), <Action.RIGHT: (0, 1)>, 13]), ((1, 5), [(1, 4), <Action.RIGHT: (0, 1)>, 14]), ((2, 4), [(1, 4), <Action.DOWN: (1, 0)>, 14]), ((0, 5), [(0, 4), <Action.RIGHT: (0, 1)>, 15]), ((2, 5), [(1, 5), <Action.DOWN: (1, 0)>, 16])]\n",
      "-------------------\n",
      "-------------------\n",
      "[((1, 0), [(0, 0), <Action.DOWN: (1, 0)>, 0]), ((2, 0), [(1, 0), <Action.DOWN: (1, 0)>, 1]), ((3, 0), [(2, 0), <Action.DOWN: (1, 0)>, 2]), ((3, 1), [(3, 0), <Action.RIGHT: (0, 1)>, 3]), ((4, 0), [(3, 0), <Action.DOWN: (1, 0)>, 3]), ((3, 2), [(3, 1), <Action.RIGHT: (0, 1)>, 4]), ((4, 1), [(3, 1), <Action.DOWN: (1, 0)>, 4]), ((2, 2), [(3, 2), <Action.UP: (-1, 0)>, 6]), ((4, 2), [(3, 2), <Action.DOWN: (1, 0)>, 6]), ((1, 2), [(2, 2), <Action.UP: (-1, 0)>, 8]), ((1, 3), [(1, 2), <Action.RIGHT: (0, 1)>, 10]), ((0, 2), [(1, 2), <Action.UP: (-1, 0)>, 10]), ((0, 3), [(0, 2), <Action.RIGHT: (0, 1)>, 11]), ((1, 4), [(1, 3), <Action.RIGHT: (0, 1)>, 12]), ((0, 4), [(0, 3), <Action.RIGHT: (0, 1)>, 13]), ((1, 5), [(1, 4), <Action.RIGHT: (0, 1)>, 14]), ((2, 4), [(1, 4), <Action.DOWN: (1, 0)>, 14]), ((0, 5), [(0, 4), <Action.RIGHT: (0, 1)>, 15]), ((2, 5), [(1, 5), <Action.DOWN: (1, 0)>, 16]), ((3, 5), [(2, 5), <Action.DOWN: (1, 0)>, 19])]\n",
      "-------------------\n",
      "-------------------\n",
      "[((1, 0), [(0, 0), <Action.DOWN: (1, 0)>, 0]), ((2, 0), [(1, 0), <Action.DOWN: (1, 0)>, 1]), ((3, 0), [(2, 0), <Action.DOWN: (1, 0)>, 2]), ((3, 1), [(3, 0), <Action.RIGHT: (0, 1)>, 3]), ((4, 0), [(3, 0), <Action.DOWN: (1, 0)>, 3]), ((3, 2), [(3, 1), <Action.RIGHT: (0, 1)>, 4]), ((4, 1), [(3, 1), <Action.DOWN: (1, 0)>, 4]), ((2, 2), [(3, 2), <Action.UP: (-1, 0)>, 6]), ((4, 2), [(3, 2), <Action.DOWN: (1, 0)>, 6]), ((1, 2), [(2, 2), <Action.UP: (-1, 0)>, 8]), ((1, 3), [(1, 2), <Action.RIGHT: (0, 1)>, 10]), ((0, 2), [(1, 2), <Action.UP: (-1, 0)>, 10]), ((0, 3), [(0, 2), <Action.RIGHT: (0, 1)>, 11]), ((1, 4), [(1, 3), <Action.RIGHT: (0, 1)>, 12]), ((0, 4), [(0, 3), <Action.RIGHT: (0, 1)>, 13]), ((1, 5), [(1, 4), <Action.RIGHT: (0, 1)>, 14]), ((2, 4), [(1, 4), <Action.DOWN: (1, 0)>, 14]), ((0, 5), [(0, 4), <Action.RIGHT: (0, 1)>, 15]), ((2, 5), [(1, 5), <Action.DOWN: (1, 0)>, 16]), ((3, 5), [(2, 5), <Action.DOWN: (1, 0)>, 19]), ((4, 5), [(3, 5), <Action.DOWN: (1, 0)>, 20])]\n",
      "-------------------\n",
      "-------------------\n",
      "[((1, 0), [(0, 0), <Action.DOWN: (1, 0)>, 0]), ((2, 0), [(1, 0), <Action.DOWN: (1, 0)>, 1]), ((3, 0), [(2, 0), <Action.DOWN: (1, 0)>, 2]), ((4, 0), [(3, 0), <Action.DOWN: (1, 0)>, 3]), ((3, 1), [(3, 0), <Action.RIGHT: (0, 1)>, 3]), ((4, 1), [(3, 1), <Action.DOWN: (1, 0)>, 4]), ((3, 2), [(3, 1), <Action.RIGHT: (0, 1)>, 4]), ((2, 2), [(3, 2), <Action.UP: (-1, 0)>, 6]), ((4, 2), [(3, 2), <Action.DOWN: (1, 0)>, 6]), ((1, 2), [(2, 2), <Action.UP: (-1, 0)>, 8]), ((1, 3), [(1, 2), <Action.RIGHT: (0, 1)>, 10]), ((0, 2), [(1, 2), <Action.UP: (-1, 0)>, 10]), ((0, 3), [(0, 2), <Action.RIGHT: (0, 1)>, 11]), ((1, 4), [(1, 3), <Action.RIGHT: (0, 1)>, 12]), ((0, 4), [(0, 3), <Action.RIGHT: (0, 1)>, 13]), ((1, 5), [(1, 4), <Action.RIGHT: (0, 1)>, 14]), ((2, 4), [(1, 4), <Action.DOWN: (1, 0)>, 14]), ((0, 5), [(0, 4), <Action.RIGHT: (0, 1)>, 15]), ((2, 5), [(1, 5), <Action.DOWN: (1, 0)>, 16]), ((3, 5), [(2, 5), <Action.DOWN: (1, 0)>, 19]), ((4, 5), [(3, 5), <Action.DOWN: (1, 0)>, 20]), ((4, 4), [(4, 5), <Action.LEFT: (0, -1)>, 21])]\n",
      "-------------------\n",
      "Found a path.\n",
      "{(1, 3): [(1, 2), <Action.RIGHT: (0, 1)>], (3, 0): [(2, 0), <Action.DOWN: (1, 0)>], (0, 3): [(0, 2), <Action.RIGHT: (0, 1)>], (2, 5): [(1, 5), <Action.DOWN: (1, 0)>], (4, 0): [(3, 0), <Action.DOWN: (1, 0)>], (1, 2): [(2, 2), <Action.UP: (-1, 0)>], (4, 4): [(4, 5), <Action.LEFT: (0, -1)>], (1, 5): [(1, 4), <Action.RIGHT: (0, 1)>], (2, 2): [(3, 2), <Action.UP: (-1, 0)>], (4, 1): [(3, 1), <Action.DOWN: (1, 0)>], (3, 2): [(3, 1), <Action.RIGHT: (0, 1)>], (4, 5): [(3, 5), <Action.DOWN: (1, 0)>], (0, 4): [(0, 3), <Action.RIGHT: (0, 1)>], (1, 4): [(1, 3), <Action.RIGHT: (0, 1)>], (0, 5): [(0, 4), <Action.RIGHT: (0, 1)>], (4, 2): [(3, 2), <Action.DOWN: (1, 0)>], (1, 0): [(0, 0), <Action.DOWN: (1, 0)>], (3, 5): [(2, 5), <Action.DOWN: (1, 0)>], (3, 1): [(3, 0), <Action.RIGHT: (0, 1)>], (0, 2): [(1, 2), <Action.UP: (-1, 0)>], (2, 0): [(1, 0), <Action.DOWN: (1, 0)>], (2, 4): [(1, 4), <Action.DOWN: (1, 0)>]}\n",
      "(4, 4)\n",
      "[(4, 5), <Action.LEFT: (0, -1)>]\n",
      "(4, 4)\n",
      "(4, 5)\n",
      "(3, 5)\n",
      "(2, 5)\n",
      "(1, 5)\n",
      "(1, 4)\n",
      "(1, 3)\n",
      "(1, 2)\n",
      "(2, 2)\n",
      "(3, 2)\n",
      "(3, 1)\n",
      "(3, 0)\n",
      "(2, 0)\n",
      "[<Action.DOWN: (1, 0)>, <Action.DOWN: (1, 0)>, <Action.DOWN: (1, 0)>, <Action.RIGHT: (0, 1)>, <Action.RIGHT: (0, 1)>, <Action.UP: (-1, 0)>, <Action.UP: (-1, 0)>, <Action.RIGHT: (0, 1)>, <Action.RIGHT: (0, 1)>, <Action.RIGHT: (0, 1)>, <Action.DOWN: (1, 0)>, <Action.DOWN: (1, 0)>, <Action.DOWN: (1, 0)>, <Action.LEFT: (0, -1)>]\n"
     ]
    }
   ],
   "source": [
    "path = breadth_first(grid, start, goal)\n",
    "print(path)"
   ]
  },
  {
   "cell_type": "code",
   "execution_count": 13,
   "metadata": {},
   "outputs": [
    {
     "data": {
      "text/plain": [
       "array([['S', 'O', ' ', ' ', ' ', ' '],\n",
       "       ['v', 'O', '>', '>', '>', 'v'],\n",
       "       ['v', 'O', '^', 'O', ' ', 'v'],\n",
       "       ['>', '>', '^', 'O', 'O', 'v'],\n",
       "       [' ', ' ', ' ', 'O', 'G', '<']], dtype='|S1')"
      ]
     },
     "execution_count": 13,
     "metadata": {},
     "output_type": "execute_result"
    }
   ],
   "source": [
    "visualize_path(grid, path, start)"
   ]
  },
  {
   "cell_type": "code",
   "execution_count": 20,
   "metadata": {},
   "outputs": [
    {
     "data": {
      "text/plain": [
       "'/Users/teobaiguera/Documents/FlyingCarNanoDegree/notebooks'"
      ]
     },
     "execution_count": 20,
     "metadata": {},
     "output_type": "execute_result"
    }
   ],
   "source": [
    "import os\n",
    "os.getcwd()"
   ]
  },
  {
   "cell_type": "code",
   "execution_count": null,
   "metadata": {},
   "outputs": [],
   "source": []
  }
 ],
 "metadata": {
  "kernelspec": {
   "display_name": "Python 3",
   "language": "python",
   "name": "python3"
  },
  "language_info": {
   "codemirror_mode": {
    "name": "ipython",
    "version": 3
   },
   "file_extension": ".py",
   "mimetype": "text/x-python",
   "name": "python",
   "nbconvert_exporter": "python",
   "pygments_lexer": "ipython3",
   "version": "3.8.3"
  }
 },
 "nbformat": 4,
 "nbformat_minor": 2
}
