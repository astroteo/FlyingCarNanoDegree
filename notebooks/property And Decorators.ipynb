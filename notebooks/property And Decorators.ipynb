{
 "cells": [
  {
   "cell_type": "code",
   "execution_count": 6,
   "metadata": {},
   "outputs": [],
   "source": [
    "import numpy as np"
   ]
  },
  {
   "cell_type": "markdown",
   "metadata": {},
   "source": [
    "## Pure function decorators\n",
    "#### a. no params\n",
    "#### b. with params"
   ]
  },
  {
   "cell_type": "code",
   "execution_count": 17,
   "metadata": {},
   "outputs": [
    {
     "name": "stdout",
     "output_type": "stream",
     "text": [
      "before calling decorated function\n",
      "function 1 called\n",
      "after calling decorated function\n",
      "--------------------------\n",
      "before calling decorated function\n",
      "function 2 called\n",
      "after calling decorated function\n"
     ]
    }
   ],
   "source": [
    "def func1():\n",
    "    print('function 1 called')\n",
    "    \n",
    "def func2():\n",
    "    print('function 2 called')\n",
    "    \n",
    "def decorating_func(func):\n",
    "    def inner():\n",
    "        print('before calling decorated function')\n",
    "        func()\n",
    "        print('after calling decorated function')\n",
    "    return inner\n",
    "        \n",
    "    \n",
    "    \n",
    "###\n",
    "decorated_func1 = decorating_func(func1)\n",
    "decorated_func2 = decorating_func(func2)\n",
    "\n",
    "decorated_func1()\n",
    "print('--------------------------')\n",
    "decorated_func2()"
   ]
  },
  {
   "cell_type": "markdown",
   "metadata": {},
   "source": [
    "#### =>=>=>=> using decorators <=<=<=<="
   ]
  },
  {
   "cell_type": "code",
   "execution_count": 25,
   "metadata": {},
   "outputs": [
    {
     "name": "stdout",
     "output_type": "stream",
     "text": [
      "before calling decorated function\n",
      "function3 called\n",
      "after calling decorated function\n"
     ]
    }
   ],
   "source": [
    "@decorating_func\n",
    "def func3():\n",
    "    print('function3 called')\n",
    "    \n",
    "func3()"
   ]
  },
  {
   "cell_type": "code",
   "execution_count": 23,
   "metadata": {},
   "outputs": [
    {
     "name": "stdout",
     "output_type": "stream",
     "text": [
      "before calling decorated function\n",
      "result: 24\n",
      "after calling decorated function\n",
      "--------------------------\n",
      "before calling decorated function\n",
      "result: 0\n",
      "after calling decorated function\n"
     ]
    },
    {
     "data": {
      "text/plain": [
       "0"
      ]
     },
     "execution_count": 23,
     "metadata": {},
     "output_type": "execute_result"
    }
   ],
   "source": [
    "def param_func_sum(a,b):\n",
    "    return a+b\n",
    "\n",
    "def param_func_sub(a,b):\n",
    "    return a-b\n",
    "\n",
    "\n",
    "def decorating_param_func(func):\n",
    "    def inner(a,b):\n",
    "        \n",
    "        print('before calling decorated function')\n",
    "        res = func(a,b)\n",
    "        print('result: '+ str(res))\n",
    "        print('after calling decorated function')\n",
    "        \n",
    "        return res\n",
    "    \n",
    "    return inner\n",
    "\n",
    "decorated_sum = decorating_param_func(param_func_sum)\n",
    "decorated_sub = decorating_param_func(param_func_sub)\n",
    "\n",
    "\n",
    "decorated_sum(12,12)\n",
    "print('--------------------------')\n",
    "decorated_sub(12,12)\n"
   ]
  },
  {
   "cell_type": "markdown",
   "metadata": {},
   "source": [
    "#### =>=>=>=> using decorators <=<=<=<="
   ]
  },
  {
   "cell_type": "code",
   "execution_count": 30,
   "metadata": {},
   "outputs": [
    {
     "name": "stdout",
     "output_type": "stream",
     "text": [
      "before calling decorated function\n",
      "result: 1.0\n",
      "after calling decorated function\n",
      "--------------------------\n",
      "before calling decorated function\n",
      "result: 144\n",
      "after calling decorated function\n"
     ]
    }
   ],
   "source": [
    "@decorating_param_func\n",
    "def param_func_div(a,b):\n",
    "    return a/b\n",
    "\n",
    "@decorating_param_func\n",
    "def param_func_prod(a,b):\n",
    "    return a*b\n",
    "\n",
    "\n",
    "result_div =param_func_div(12,12)\n",
    "print('--------------------------')\n",
    "result_prod =param_func_prod(12,12)"
   ]
  },
  {
   "cell_type": "markdown",
   "metadata": {},
   "source": [
    "### Classes' function decorators\n"
   ]
  },
  {
   "cell_type": "code",
   "execution_count": 54,
   "metadata": {},
   "outputs": [],
   "source": [
    "class C:\n",
    "    def __init__(self,a_,b_,pr_):\n",
    "        self.a = a_\n",
    "        self.b = b_\n",
    "        self.__pr = pr_\n",
    "        \n",
    "    def get_pr(self):\n",
    "        return self.__pr\n",
    "        \n",
    "    def set_pr(self,pr_):\n",
    "        self.__pr = pr_\n",
    "        \n",
    "    def "
   ]
  },
  {
   "cell_type": "code",
   "execution_count": 58,
   "metadata": {},
   "outputs": [
    {
     "name": "stdout",
     "output_type": "stream",
     "text": [
      "3\n",
      "10\n",
      "<property object at 0x125b317c0>\n"
     ]
    }
   ],
   "source": [
    "c1 = C(1,2,3)\n",
    "try:\n",
    "    c1.__pr\n",
    "except:\n",
    "    print(c1.get_pr())\n",
    "    try: \n",
    "        c1.set_pr(10)\n",
    "    except:\n",
    "        pass\n",
    "    \n",
    "    print(c1.get_pr())\n",
    "    \n",
    "print(property(c1.get_pr()))\n"
   ]
  },
  {
   "cell_type": "code",
   "execution_count": null,
   "metadata": {},
   "outputs": [],
   "source": []
  }
 ],
 "metadata": {
  "kernelspec": {
   "display_name": "Python 3",
   "language": "python",
   "name": "python3"
  },
  "language_info": {
   "codemirror_mode": {
    "name": "ipython",
    "version": 3
   },
   "file_extension": ".py",
   "mimetype": "text/x-python",
   "name": "python",
   "nbconvert_exporter": "python",
   "pygments_lexer": "ipython3",
   "version": "3.8.3"
  }
 },
 "nbformat": 4,
 "nbformat_minor": 2
}
