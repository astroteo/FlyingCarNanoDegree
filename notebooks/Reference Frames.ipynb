{
 "cells": [
  {
   "cell_type": "code",
   "execution_count": 2,
   "metadata": {},
   "outputs": [],
   "source": [
    "import utm"
   ]
  },
  {
   "cell_type": "code",
   "execution_count": 18,
   "metadata": {},
   "outputs": [
    {
     "name": "stdout",
     "output_type": "stream",
     "text": [
      "[45.5974, 9.9718]\n"
     ]
    }
   ],
   "source": [
    "s = \"Latitude of city of Erbusco is 45.5974 and longitude of city of Erbusco is 9.9718 .\"\n",
    "lat_lon_  = [st for st in s.split() ]\n",
    "lat_lon = []\n",
    "for lt  in lat_lon_:\n",
    "    try:\n",
    "        lat_lon.append(float(lt))\n",
    "    except:\n",
    "        pass\n",
    "    \n",
    "    \n",
    "print(lat_lon)\n",
    "(easting, northing, zone_number, zone_letter) = utm.from_latlon(*lat_lon)\n"
   ]
  },
  {
   "cell_type": "code",
   "execution_count": 19,
   "metadata": {},
   "outputs": [],
   "source": [
    "def global_to_local(global_position, global_home):\n",
    "    \n",
    "    (east_home, north_home, _, _) = utm.from_latlon(global_home[1], global_home[0])\n",
    "    \n",
    "    (east, north, _, _) = utm.to_latlon(east_home, global_position[0])\n",
    "                                          \n",
    "    local_position = numpy.array([north - north_home, east - east_home, -(global_position[2] - global_home[2])])\n",
    "    \n",
    "    return local_position"
   ]
  },
  {
   "cell_type": "code",
   "execution_count": null,
   "metadata": {},
   "outputs": [],
   "source": []
  },
  {
   "cell_type": "code",
   "execution_count": null,
   "metadata": {},
   "outputs": [],
   "source": [
    "### Funny stories about cartesian and NOT cartesian reference frames:\n",
    "\n",
    "\n",
    "\n"
   ]
  }
 ],
 "metadata": {
  "kernelspec": {
   "display_name": "Python 3",
   "language": "python",
   "name": "python3"
  },
  "language_info": {
   "codemirror_mode": {
    "name": "ipython",
    "version": 2
   },
   "file_extension": ".py",
   "mimetype": "text/x-python",
   "name": "python",
   "nbconvert_exporter": "python",
   "pygments_lexer": "ipython2",
   "version": "2.7.16"
  }
 },
 "nbformat": 4,
 "nbformat_minor": 2
}
