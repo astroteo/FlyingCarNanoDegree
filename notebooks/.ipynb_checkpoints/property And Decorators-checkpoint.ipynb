{
 "cells": [
  {
   "cell_type": "code",
   "execution_count": 6,
   "metadata": {},
   "outputs": [],
   "source": [
    "import numpy as np"
   ]
  },
  {
   "cell_type": "markdown",
   "metadata": {},
   "source": [
    "### Pure function decorators\n",
    "#### a. no params\n",
    "#### b. with params"
   ]
  },
  {
   "cell_type": "code",
   "execution_count": 17,
   "metadata": {},
   "outputs": [
    {
     "name": "stdout",
     "output_type": "stream",
     "text": [
      "before calling decorated function\n",
      "function 1 called\n",
      "after calling decorated function\n",
      "--------------------------\n",
      "before calling decorated function\n",
      "function 2 called\n",
      "after calling decorated function\n"
     ]
    }
   ],
   "source": [
    "def func1():\n",
    "    print('function 1 called')\n",
    "    \n",
    "def func2():\n",
    "    print('function 2 called')\n",
    "    \n",
    "def decorating_func(func):\n",
    "    def inner():\n",
    "        print('before calling decorated function')\n",
    "        func()\n",
    "        print('after calling decorated function')\n",
    "    return inner\n",
    "        \n",
    "    \n",
    "    \n",
    "###\n",
    "decorated_func1 = decorating_func(func1)\n",
    "decorated_func2 = decorating_func(func2)\n",
    "\n",
    "decorated_func1()\n",
    "print('--------------------------')\n",
    "decorated_func2()"
   ]
  },
  {
   "cell_type": "code",
   "execution_count": 23,
   "metadata": {},
   "outputs": [
    {
     "name": "stdout",
     "output_type": "stream",
     "text": [
      "before calling decorated function\n",
      "result: 24\n",
      "after calling decorated function\n",
      "--------------------------\n",
      "before calling decorated function\n",
      "result: 0\n",
      "after calling decorated function\n"
     ]
    },
    {
     "data": {
      "text/plain": [
       "0"
      ]
     },
     "execution_count": 23,
     "metadata": {},
     "output_type": "execute_result"
    }
   ],
   "source": [
    "def param_func_sum(a,b):\n",
    "    return a+b\n",
    "\n",
    "def param_func_sub(a,b):\n",
    "    return a-b\n",
    "\n",
    "\n",
    "def decorating_param_func(func):\n",
    "    def inner(a,b):\n",
    "        \n",
    "        print('before calling decorated function')\n",
    "        res = func(a,b)\n",
    "        print('result: '+ str(res))\n",
    "        print('after calling decorated function')\n",
    "        \n",
    "        return res\n",
    "    \n",
    "    return inner\n",
    "\n",
    "decorated_sum = decorating_param_func(param_func_sum)\n",
    "decorated_sub = decorating_param_func(param_func_sub)\n",
    "\n",
    "\n",
    "decorated_sum(12,12)\n",
    "print('--------------------------')\n",
    "decorated_sub(12,12)\n"
   ]
  },
  {
   "cell_type": "code",
   "execution_count": null,
   "metadata": {},
   "outputs": [],
   "source": [
    "### Functions' decorators"
   ]
  }
 ],
 "metadata": {
  "kernelspec": {
   "display_name": "Python 3",
   "language": "python",
   "name": "python3"
  },
  "language_info": {
   "codemirror_mode": {
    "name": "ipython",
    "version": 3
   },
   "file_extension": ".py",
   "mimetype": "text/x-python",
   "name": "python",
   "nbconvert_exporter": "python",
   "pygments_lexer": "ipython3",
   "version": "3.8.3"
  }
 },
 "nbformat": 4,
 "nbformat_minor": 2
}
