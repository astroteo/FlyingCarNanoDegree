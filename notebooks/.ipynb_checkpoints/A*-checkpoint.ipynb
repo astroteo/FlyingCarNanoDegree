{
 "cells": [
  {
   "cell_type": "markdown",
   "metadata": {},
   "source": [
    "### A* \n",
    "\n",
    "this algorithm is an extension of the bfs.\n",
    "\n",
    "1. cost is added to the tuple of the PriorityQueue\n",
    "```\n",
    "q = PriorityQueue()\n",
    "q.put((100,20)# implemented as (key,value)\n",
    "q.put((1,23))\n",
    "q.get() # returns (1,23)\n",
    "```\n",
    "\n",
    "2. cost is modeled as the sum of the action + the cost as heuristic ( distance of current position to the goal) "
   ]
  },
  {
   "cell_type": "code",
   "execution_count": 12,
   "metadata": {},
   "outputs": [],
   "source": [
    "import numpy as np\n",
    "from queue import PriorityQueue\n",
    "from enum import Enum"
   ]
  },
  {
   "cell_type": "code",
   "execution_count": 32,
   "metadata": {},
   "outputs": [
    {
     "data": {
      "text/plain": [
       "(1, 23)"
      ]
     },
     "execution_count": 32,
     "metadata": {},
     "output_type": "execute_result"
    }
   ],
   "source": [
    "#################\n",
    "q = PriorityQueue()\n",
    "q.put((100,20))# implemented as (key,value)\n",
    "q.put((1,23))\n",
    "q.get() # returns (1,23)\n",
    "\n",
    "################"
   ]
  },
  {
   "cell_type": "code",
   "execution_count": null,
   "metadata": {},
   "outputs": [],
   "source": []
  },
  {
   "cell_type": "code",
   "execution_count": 13,
   "metadata": {},
   "outputs": [],
   "source": [
    "position = (1,0)\n",
    "goal_position = (3,3)\n",
    "\n",
    "def heuristic(position, goal_postition):\n",
    "    h = np.linalg.norm([goal_position[0] - position[0],\n",
    "                        goal_position[1] - position[0]])\n",
    "    return h"
   ]
  },
  {
   "cell_type": "code",
   "execution_count": 14,
   "metadata": {},
   "outputs": [
    {
     "data": {
      "text/plain": [
       "2.8284271247461903"
      ]
     },
     "execution_count": 14,
     "metadata": {},
     "output_type": "execute_result"
    }
   ],
   "source": [
    "heuristic(position, goal_position)"
   ]
  },
  {
   "cell_type": "code",
   "execution_count": 15,
   "metadata": {},
   "outputs": [],
   "source": [
    "class Action(Enum):\n",
    "    \"\"\"\n",
    "    An action is represented by a 3 element tuple.\n",
    "    \n",
    "    The first 2 values are the delta of the action relative\n",
    "    to the current grid position. The third and final value\n",
    "    is the cost of performing the action.\n",
    "    \"\"\"\n",
    "    LEFT = (0, -1, 1)\n",
    "    RIGHT = (0, 1, 1)\n",
    "    UP = (-1, 0, 1)\n",
    "    DOWN = (1, 0, 1)\n",
    "    \n",
    "    def __str__(self):\n",
    "        if self == self.LEFT:\n",
    "            return '<'\n",
    "        elif self == self.RIGHT:\n",
    "            return '>'\n",
    "        elif self == self.UP:\n",
    "            return '^'\n",
    "        elif self == self.DOWN:\n",
    "            return 'v'\n",
    "    \n",
    "    @property\n",
    "    def cost(self):\n",
    "        return self.value[2]\n",
    "    \n",
    "    @property\n",
    "    def delta(self):\n",
    "        return (self.value[0], self.value[1])\n",
    "            \n",
    "    \n",
    "def valid_actions(grid, current_node):\n",
    "    \"\"\"\n",
    "    Returns a list of valid actions given a grid and current node.\n",
    "    \"\"\"\n",
    "    valid = [Action.UP, Action.LEFT, Action.RIGHT, Action.DOWN]\n",
    "    n, m = grid.shape[0] - 1, grid.shape[1] - 1\n",
    "    x, y = current_node\n",
    "    \n",
    "    # check if the node is off the grid or\n",
    "    # it's an obstacle\n",
    "    \n",
    "    if x - 1 < 0 or grid[x-1, y] == 1:\n",
    "        valid.remove(Action.UP)\n",
    "    if x + 1 > n or grid[x+1, y] == 1:\n",
    "        valid.remove(Action.DOWN)\n",
    "    if y - 1 < 0 or grid[x, y-1] == 1:\n",
    "        valid.remove(Action.LEFT)\n",
    "    if y + 1 > m or grid[x, y+1] == 1:\n",
    "        valid.remove(Action.RIGHT)\n",
    "        \n",
    "    return valid\n",
    "\n",
    "def visualize_path(grid, path, start):\n",
    "    sgrid = np.zeros(np.shape(grid), dtype=np.str)\n",
    "    sgrid[:] = ' '\n",
    "    sgrid[grid[:] == 1] = 'O'\n",
    "    \n",
    "    pos = start\n",
    "    \n",
    "    for a in path:\n",
    "        da = a.value\n",
    "        sgrid[pos[0], pos[1]] = str(a)\n",
    "        pos = (pos[0] + da[0], pos[1] + da[1])\n",
    "    sgrid[pos[0], pos[1]] = 'G'\n",
    "    sgrid[start[0], start[1]] = 'S'  \n",
    "    return sgrid"
   ]
  },
  {
   "cell_type": "code",
   "execution_count": 55,
   "metadata": {},
   "outputs": [],
   "source": [
    "\n",
    "queue_status_dic = {}\n",
    " \n",
    "def a_star(grid, h, start, goal):\n",
    "    cnt = 0\n",
    "    path = []\n",
    "    path_cost = 0\n",
    "    queue = PriorityQueue()\n",
    "    queue.put((0, start))\n",
    "    visited = set(start)\n",
    "\n",
    "    branch = {}\n",
    "    found = False\n",
    "    \n",
    "    \n",
    "    \n",
    "    \n",
    "    while not queue.empty():\n",
    "        cnt +=1 \n",
    "        item = queue.get()\n",
    "        current_node = item[1]\n",
    "        if current_node == start:\n",
    "            current_cost = 0.0\n",
    "        else:              \n",
    "            current_cost = branch[current_node][0]\n",
    "            \n",
    "        if current_node == goal:        \n",
    "            print('Found a path.')\n",
    "            found = True\n",
    "            break\n",
    "        else:\n",
    "            for action in valid_actions(grid, current_node):\n",
    "                # get the tuple representation\n",
    "                da = action.delta\n",
    "                next_node = (current_node[0] + da[0], current_node[1] + da[1])\n",
    "                # DONE: calculate branch cost (action.cost + g)\n",
    "                h = heuristic(next_node, goal)\n",
    "                # DONE: calculate queue cost (action.cost + g + h)\n",
    "                g = action.cost\n",
    "                \n",
    "                \"\"\"\n",
    "                this approach is wrong for 2 reasons:\n",
    "                \n",
    "                1.  !! ONLY ACTIONS COST ARE EFFECTIVE COSTS ( THESE ARE EVALUATED IN THE BRANCH ) !!  \n",
    "                2.  the cost (c_new = c + h + g ) is the one determining the priority in the que but it is not an effective cost.\n",
    "                \n",
    "                \"\"\"\n",
    "                \n",
    "                #if current_node == start:\n",
    "                    #branch_cost = h + g\n",
    "                #else:\n",
    "                   #branch_cost = branch[current_node][0] + h +g \n",
    "                branch_cost = current_cost + g\n",
    "                queue_cost = current_cost + h + g \n",
    "                \n",
    "                if next_node not in visited:                \n",
    "                    visited.add(next_node)               \n",
    "                    branch[next_node] = (branch_cost, current_node, action)\n",
    "                    queue.put((queue_cost, next_node))    \n",
    "                    \n",
    "                queue_status_dic[cnt] = list(queue.queue)\n",
    "    if found:\n",
    "        # retrace steps\n",
    "        n = goal\n",
    "        path_cost = branch[n][0]\n",
    "        while branch[n][1] != start:\n",
    "            path.append(branch[n][2])\n",
    "            n = branch[n][1]\n",
    "        path.append(branch[n][2])\n",
    "    else:\n",
    "        print('**********************')\n",
    "        print('Failed to find a path!')\n",
    "        print('**********************')\n",
    "        \n",
    "    return path[::-1], path_cost"
   ]
  },
  {
   "cell_type": "code",
   "execution_count": 56,
   "metadata": {},
   "outputs": [],
   "source": [
    "start = (0, 0)\n",
    "goal = (4, 4)\n",
    "\n",
    "grid = np.array([\n",
    "    [0, 1, 0, 0, 0, 0],\n",
    "    [0, 0, 0, 0, 0, 0],\n",
    "    [0, 1, 0, 0, 0, 0],\n",
    "    [0, 0, 0, 1, 1, 0],\n",
    "    [0, 0, 0, 1, 0, 0],\n",
    "])"
   ]
  },
  {
   "cell_type": "code",
   "execution_count": 57,
   "metadata": {},
   "outputs": [
    {
     "name": "stdout",
     "output_type": "stream",
     "text": [
      "Found a path.\n",
      "([<Action.DOWN: (1, 0, 1)>, <Action.RIGHT: (0, 1, 1)>, <Action.RIGHT: (0, 1, 1)>, <Action.RIGHT: (0, 1, 1)>, <Action.DOWN: (1, 0, 1)>, <Action.RIGHT: (0, 1, 1)>, <Action.RIGHT: (0, 1, 1)>, <Action.DOWN: (1, 0, 1)>, <Action.DOWN: (1, 0, 1)>, <Action.LEFT: (0, -1, 1)>], 10.0)\n"
     ]
    }
   ],
   "source": [
    "path, cost = a_star(grid, heuristic, start, goal)\n",
    "print(path, cost)"
   ]
  },
  {
   "cell_type": "code",
   "execution_count": 58,
   "metadata": {},
   "outputs": [
    {
     "data": {
      "text/plain": [
       "array([['S', 'O', ' ', ' ', ' ', ' '],\n",
       "       ['>', '>', '>', 'v', ' ', ' '],\n",
       "       [' ', 'O', ' ', '>', '>', 'v'],\n",
       "       [' ', ' ', ' ', 'O', 'O', 'v'],\n",
       "       [' ', ' ', ' ', 'O', 'G', '<']], dtype='|S1')"
      ]
     },
     "execution_count": 58,
     "metadata": {},
     "output_type": "execute_result"
    }
   ],
   "source": [
    "visualize_path(grid, path, start)"
   ]
  },
  {
   "cell_type": "code",
   "execution_count": 62,
   "metadata": {},
   "outputs": [
    {
     "name": "stdout",
     "output_type": "stream",
     "text": [
      "------------\n",
      "(1, [(3.8284271247461903, (1, 0))])\n",
      "------------\n",
      "(2, [(3.414213562373095, (2, 0)), (6.242640687119285, (0, 0)), (4.82842712474619, (1, 1))])\n",
      "------------\n",
      "(3, [(3.0, (3, 0)), (6.242640687119285, (0, 0)), (4.82842712474619, (1, 1))])\n",
      "------------\n",
      "(4, [(4.0, (3, 1)), (5.414213562373095, (4, 0)), (4.82842712474619, (1, 1)), (6.242640687119285, (0, 0))])\n",
      "------------\n",
      "(5, [(4.82842712474619, (1, 1)), (5.0, (3, 2)), (6.242640687119285, (0, 0)), (5.414213562373095, (4, 0)), (6.414213562373095, (4, 1))])\n",
      "------------\n",
      "(6, [(5.0, (3, 2)), (5.414213562373095, (4, 0)), (6.242640687119285, (0, 0)), (6.414213562373095, (4, 1)), (5.82842712474619, (1, 2))])\n",
      "------------\n",
      "(7, [(5.414213562373095, (4, 0)), (5.82842712474619, (1, 2)), (6.242640687119285, (0, 0)), (6.414213562373095, (4, 1)), (7.414213562373095, (2, 2)), (7.414213562373095, (4, 2))])\n",
      "------------\n",
      "(8, [(5.82842712474619, (1, 2)), (6.414213562373095, (4, 1)), (6.242640687119285, (0, 0)), (7.414213562373095, (4, 2)), (7.414213562373095, (2, 2))])\n",
      "------------\n",
      "(9, [(6.242640687119285, (0, 0)), (6.414213562373095, (4, 1)), (6.82842712474619, (1, 3)), (7.414213562373095, (4, 2)), (8.242640687119284, (0, 2)), (7.414213562373095, (2, 2))])\n",
      "------------\n",
      "(10, [(6.414213562373095, (4, 1)), (7.414213562373095, (2, 2)), (6.82842712474619, (1, 3)), (7.414213562373095, (4, 2)), (8.242640687119284, (0, 2))])\n",
      "------------\n",
      "(11, [(6.82842712474619, (1, 3)), (7.414213562373095, (2, 2)), (8.242640687119284, (0, 2)), (7.414213562373095, (4, 2))])\n",
      "------------\n",
      "(12, [(6.414213562373095, (2, 3)), (7.414213562373095, (4, 2)), (7.414213562373095, (2, 2)), (9.242640687119284, (0, 3)), (7.82842712474619, (1, 4)), (8.242640687119284, (0, 2))])\n",
      "------------\n",
      "(13, [(7.414213562373095, (2, 2)), (7.414213562373095, (4, 2)), (7.414213562373095, (2, 4)), (9.242640687119284, (0, 3)), (7.82842712474619, (1, 4)), (8.242640687119284, (0, 2))])\n",
      "------------\n",
      "(14, [(7.414213562373095, (2, 4)), (7.414213562373095, (4, 2)), (8.242640687119284, (0, 2)), (9.242640687119284, (0, 3)), (7.82842712474619, (1, 4))])\n",
      "------------\n",
      "(15, [(7.414213562373095, (4, 2)), (7.82842712474619, (1, 4)), (8.242640687119284, (0, 2)), (9.242640687119284, (0, 3)), (8.414213562373096, (2, 5))])\n",
      "------------\n",
      "(16, [(7.82842712474619, (1, 4)), (8.414213562373096, (2, 5)), (8.242640687119284, (0, 2)), (9.242640687119284, (0, 3))])\n",
      "------------\n",
      "(17, [(8.242640687119284, (0, 2)), (8.414213562373096, (2, 5)), (9.242640687119284, (0, 3)), (10.242640687119284, (0, 4)), (8.82842712474619, (1, 5))])\n",
      "------------\n",
      "(18, [(8.414213562373096, (2, 5)), (8.82842712474619, (1, 5)), (9.242640687119284, (0, 3)), (10.242640687119284, (0, 4))])\n",
      "------------\n",
      "(19, [(8.0, (3, 5)), (8.82842712474619, (1, 5)), (9.242640687119284, (0, 3)), (10.242640687119284, (0, 4))])\n",
      "------------\n",
      "(20, [(8.82842712474619, (1, 5)), (10.242640687119284, (0, 4)), (9.242640687119284, (0, 3)), (10.414213562373096, (4, 5))])\n",
      "------------\n",
      "(21, [(9.242640687119284, (0, 3)), (10.242640687119284, (0, 4)), (10.414213562373096, (4, 5)), (11.242640687119284, (0, 5))])\n",
      "------------\n",
      "(22, [(10.242640687119284, (0, 4)), (11.242640687119284, (0, 5)), (10.414213562373096, (4, 5))])\n",
      "------------\n",
      "(23, [(10.414213562373096, (4, 5)), (11.242640687119284, (0, 5))])\n",
      "------------\n",
      "(24, [(11.242640687119284, (0, 5)), (11.414213562373096, (4, 4))])\n",
      "------------\n",
      "(25, [(11.414213562373096, (4, 4))])\n"
     ]
    }
   ],
   "source": [
    "\n",
    "\n",
    "for qsd in queue_status_dic.items():\n",
    "    print(\"------------\")\n",
    "    print(qsd)"
   ]
  },
  {
   "cell_type": "code",
   "execution_count": null,
   "metadata": {},
   "outputs": [],
   "source": []
  },
  {
   "cell_type": "code",
   "execution_count": null,
   "metadata": {},
   "outputs": [],
   "source": []
  }
 ],
 "metadata": {
  "kernelspec": {
   "display_name": "Python 3",
   "language": "python",
   "name": "python3"
  },
  "language_info": {
   "codemirror_mode": {
    "name": "ipython",
    "version": 2
   },
   "file_extension": ".py",
   "mimetype": "text/x-python",
   "name": "python",
   "nbconvert_exporter": "python",
   "pygments_lexer": "ipython2",
   "version": "2.7.16"
  }
 },
 "nbformat": 4,
 "nbformat_minor": 2
}
