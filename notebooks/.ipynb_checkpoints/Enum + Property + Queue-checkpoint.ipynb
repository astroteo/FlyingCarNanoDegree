{
 "cells": [
  {
   "cell_type": "markdown",
   "metadata": {},
   "source": [
    "### Enum Class\n",
    "#### 1. Exploit the  __str__ method to override print method\n",
    "#### 2. Use the @property => pythonic way to manage getters and setters"
   ]
  },
  {
   "cell_type": "code",
   "execution_count": 9,
   "metadata": {},
   "outputs": [],
   "source": [
    "from enum import Enum\n",
    "import Queue\n",
    "import os\n",
    "\n",
    "class A(Enum):\n",
    "    __order__ = \"LEFT RIGHT DOWN UP\"\n",
    "    LEFT = (0, -1)\n",
    "    RIGHT = (0, 1)\n",
    "    UP = (-1, 0)\n",
    "    DOWN = (1, 0)\n",
    "    \n",
    "    def __str__(self):#overrides the print method \n",
    "        if self == self.LEFT:\n",
    "            return '<'\n",
    "        elif self == self.RIGHT:\n",
    "            return '>'\n",
    "        elif self == self.UP:\n",
    "            return '^'\n",
    "        elif self == self.DOWN:\n",
    "            return 'v'"
   ]
  },
  {
   "cell_type": "markdown",
   "metadata": {},
   "source": [
    "is possible to iterate over an enumerator using the attribute value to get the proper value"
   ]
  },
  {
   "cell_type": "code",
   "execution_count": 12,
   "metadata": {},
   "outputs": [
    {
     "name": "stdout",
     "output_type": "stream",
     "text": [
      "<\n",
      "(0, -1)\n",
      ">\n",
      "(0, 1)\n",
      "v\n",
      "(1, 0)\n",
      "^\n",
      "(-1, 0)\n"
     ]
    }
   ],
   "source": [
    "for a in A:\n",
    "    print(a)\n",
    "    print(a.value)"
   ]
  },
  {
   "cell_type": "code",
   "execution_count": 16,
   "metadata": {},
   "outputs": [],
   "source": [
    "import math\n",
    "class Ap(Enum):\n",
    "    __order__ = \"LEFT RIGHT DOWN UP UP_LEFT UP_RIGHT DOWN_LEFT DOWN_RIGHT\"\n",
    "    LEFT = (0, -1)\n",
    "    RIGHT = (0, 1)\n",
    "    UP = (-1, 0)\n",
    "    DOWN = (1, 0)\n",
    "    UP_LEFT = (1, -1)\n",
    "    UP_RIGHT = (1, 1)\n",
    "    DOWN_LEFT = (-1,-1)\n",
    "    DOWN_RIGHT = (1,1)\n",
    "    \n",
    "    @property# read-only attribute! \n",
    "    def cost(self):\n",
    "        return math.sqrt(self.value[0]**2 + self.value[1]**2)\n",
    "    "
   ]
  },
  {
   "cell_type": "code",
   "execution_count": 18,
   "metadata": {},
   "outputs": [
    {
     "name": "stdout",
     "output_type": "stream",
     "text": [
      "Ap.LEFT\n",
      "1.0\n",
      "Ap.RIGHT\n",
      "1.0\n",
      "Ap.DOWN\n",
      "1.0\n",
      "Ap.UP\n",
      "1.0\n",
      "Ap.UP_LEFT\n",
      "1.41421356237\n",
      "Ap.UP_RIGHT\n",
      "1.41421356237\n",
      "Ap.DOWN_LEFT\n",
      "1.41421356237\n"
     ]
    }
   ],
   "source": [
    "for a in Ap:\n",
    "    print(a)\n",
    "    print(a.cost)"
   ]
  },
  {
   "cell_type": "code",
   "execution_count": 53,
   "metadata": {},
   "outputs": [],
   "source": [
    "class Person:\n",
    "    def __init__(self, n,a):\n",
    "        self.n = n\n",
    "        self.__a = a# __a is private\n",
    "        \n",
    "    @property\n",
    "    def a(self):\n",
    "        return self.__a\n",
    "    \n",
    "    def get_a(self):\n",
    "        return self.__a\n",
    "        \n",
    "    "
   ]
  },
  {
   "cell_type": "code",
   "execution_count": 54,
   "metadata": {},
   "outputs": [],
   "source": [
    "p = Person(\"albi\",2)\n"
   ]
  },
  {
   "cell_type": "code",
   "execution_count": 58,
   "metadata": {},
   "outputs": [
    {
     "name": "stdout",
     "output_type": "stream",
     "text": [
      "albi\n",
      "2\n",
      "<bound method Person.get_a of <__main__.Person instance at 0x10e58b710>>\n",
      "2\n"
     ]
    }
   ],
   "source": [
    "print(p.n)# public attribute\n",
    "print(p.a)# private attribute called with the @property method\n",
    "print(p.get_a)#standard getter, still defined as function\n",
    "print(p.get_a())"
   ]
  },
  {
   "cell_type": "markdown",
   "metadata": {},
   "source": [
    "### Queues"
   ]
  },
  {
   "cell_type": "code",
   "execution_count": 59,
   "metadata": {},
   "outputs": [],
   "source": [
    "q = Queue.Queue()"
   ]
  },
  {
   "cell_type": "code",
   "execution_count": 60,
   "metadata": {},
   "outputs": [],
   "source": [
    "l = [\"pippo\",\"mario\",\"giulioo\",\"mario\"]\n",
    "_ = [q.put(n) for n in l]"
   ]
  },
  {
   "cell_type": "code",
   "execution_count": 61,
   "metadata": {},
   "outputs": [
    {
     "name": "stdout",
     "output_type": "stream",
     "text": [
      "['pippo', 'mario', 'giulioo', 'mario']\n",
      "['mario', 'giulioo', 'mario', 'pippo']\n"
     ]
    }
   ],
   "source": [
    "ll = list(q.queue)\n",
    "print(ll)\n",
    "linv = ll[::-1]\n",
    "print(linv)"
   ]
  },
  {
   "cell_type": "code",
   "execution_count": null,
   "metadata": {},
   "outputs": [],
   "source": []
  }
 ],
 "metadata": {
  "kernelspec": {
   "display_name": "Python 3",
   "language": "python",
   "name": "python3"
  },
  "language_info": {
   "codemirror_mode": {
    "name": "ipython",
    "version": 2
   },
   "file_extension": ".py",
   "mimetype": "text/x-python",
   "name": "python",
   "nbconvert_exporter": "python",
   "pygments_lexer": "ipython2",
   "version": "2.7.16"
  }
 },
 "nbformat": 4,
 "nbformat_minor": 2
}
