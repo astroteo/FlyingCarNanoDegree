{
 "cells": [
  {
   "cell_type": "code",
   "execution_count": 1,
   "metadata": {},
   "outputs": [],
   "source": [
    "import Queue\n",
    "import os \n"
   ]
  },
  {
   "cell_type": "code",
   "execution_count": 2,
   "metadata": {},
   "outputs": [],
   "source": [
    "q = Queue.Queue()"
   ]
  },
  {
   "cell_type": "code",
   "execution_count": 4,
   "metadata": {},
   "outputs": [
    {
     "data": {
      "text/plain": [
       "True"
      ]
     },
     "execution_count": 4,
     "metadata": {},
     "output_type": "execute_result"
    }
   ],
   "source": [
    "q.empty()"
   ]
  },
  {
   "cell_type": "code",
   "execution_count": 5,
   "metadata": {},
   "outputs": [],
   "source": [
    "q.put(\"mario\")"
   ]
  },
  {
   "cell_type": "code",
   "execution_count": 7,
   "metadata": {},
   "outputs": [
    {
     "data": {
      "text/plain": [
       "False"
      ]
     },
     "execution_count": 7,
     "metadata": {},
     "output_type": "execute_result"
    }
   ],
   "source": [
    "q.empty()"
   ]
  },
  {
   "cell_type": "code",
   "execution_count": 8,
   "metadata": {},
   "outputs": [
    {
     "name": "stdout",
     "output_type": "stream",
     "text": [
      "mario\n"
     ]
    }
   ],
   "source": [
    "mario_ = q.get()\n",
    "print(mario_)"
   ]
  },
  {
   "cell_type": "code",
   "execution_count": 9,
   "metadata": {},
   "outputs": [
    {
     "data": {
      "text/plain": [
       "True"
      ]
     },
     "execution_count": 9,
     "metadata": {},
     "output_type": "execute_result"
    }
   ],
   "source": [
    "q.empty()"
   ]
  },
  {
   "cell_type": "markdown",
   "metadata": {},
   "source": [
    "---------------------------------------------------------------------------------------------------------------------"
   ]
  },
  {
   "cell_type": "code",
   "execution_count": 45,
   "metadata": {},
   "outputs": [],
   "source": [
    "l = [\"pippo\",\"mario\",\"giulioo\",\"mario\"]\n",
    "_ = [q.put(n) for n in l]"
   ]
  },
  {
   "cell_type": "code",
   "execution_count": 48,
   "metadata": {},
   "outputs": [
    {
     "name": "stdout",
     "output_type": "stream",
     "text": [
      "['pippo', 'mario', 'giulioo', 'mario']\n",
      "['mario', 'giulioo', 'mario', 'pippo']\n"
     ]
    }
   ],
   "source": [
    "ll = list(q.queue)\n",
    "print(ll)\n",
    "linv = ll[::-1]\n",
    "print(linv)"
   ]
  },
  {
   "cell_type": "code",
   "execution_count": 13,
   "metadata": {},
   "outputs": [
    {
     "name": "stdout",
     "output_type": "stream",
     "text": [
      "pippo\n",
      "mario\n",
      "giulioo\n",
      "mario\n"
     ]
    }
   ],
   "source": [
    "while not q.empty():\n",
    "    n = q.get()\n",
    "    print(n)\n",
    "    "
   ]
  },
  {
   "cell_type": "markdown",
   "metadata": {},
   "source": [
    "---------------------------------------------------------------------------------------------------------------------"
   ]
  },
  {
   "cell_type": "code",
   "execution_count": 14,
   "metadata": {},
   "outputs": [],
   "source": [
    "s = set(l)"
   ]
  },
  {
   "cell_type": "code",
   "execution_count": 15,
   "metadata": {},
   "outputs": [
    {
     "name": "stdout",
     "output_type": "stream",
     "text": [
      "set(['pippo', 'giulioo', 'mario'])\n"
     ]
    }
   ],
   "source": [
    "print(s)"
   ]
  },
  {
   "cell_type": "code",
   "execution_count": 19,
   "metadata": {},
   "outputs": [],
   "source": [
    "s.add(\"mario\")\n",
    "s.add(\"maria\")"
   ]
  },
  {
   "cell_type": "code",
   "execution_count": 20,
   "metadata": {},
   "outputs": [
    {
     "name": "stdout",
     "output_type": "stream",
     "text": [
      "set(['pippo', 'giulioo', 'maria', 'mario'])\n"
     ]
    }
   ],
   "source": [
    "print(s)"
   ]
  },
  {
   "cell_type": "code",
   "execution_count": 36,
   "metadata": {},
   "outputs": [
    {
     "name": "stdout",
     "output_type": "stream",
     "text": [
      "<\n",
      ">\n",
      "v\n",
      "^\n"
     ]
    }
   ],
   "source": [
    "from enum import Enum\n",
    "\n",
    "class A(Enum):\n",
    "    __order__ = \"LEFT RIGHT DOWN UP\"\n",
    "    LEFT = (0, -1)\n",
    "    RIGHT = (0, 1)\n",
    "    UP = (-1, 0)\n",
    "    DOWN = (1, 0)\n",
    "    \n",
    "    def __str__(self):\n",
    "        if self == self.LEFT:\n",
    "            return '<'\n",
    "        elif self == self.RIGHT:\n",
    "            return '>'\n",
    "        elif self == self.UP:\n",
    "            return '^'\n",
    "        elif self == self.DOWN:\n",
    "            return 'v'\n",
    "    \n",
    "    \n",
    "    \n",
    "for a in A:\n",
    "    print(a)\n",
    "    "
   ]
  },
  {
   "cell_type": "code",
   "execution_count": 39,
   "metadata": {},
   "outputs": [
    {
     "name": "stdout",
     "output_type": "stream",
     "text": [
      "(0, -1)\n",
      "(0, 1)\n",
      "(1, 0)\n",
      "(-1, 0)\n"
     ]
    }
   ],
   "source": [
    "p0 = (0,0)\n",
    "for a in A:\n",
    "    pp = (p0[0] + a.value[0], p0[1] + a.value[1])\n",
    "    print(pp)"
   ]
  },
  {
   "cell_type": "markdown",
   "metadata": {},
   "source": [
    "---------------------------------------------------------------------------------------------------------------------"
   ]
  },
  {
   "cell_type": "code",
   "execution_count": 158,
   "metadata": {},
   "outputs": [],
   "source": [
    "class P():\n",
    "    def __init__(self,name,age):\n",
    "        self.name = name\n",
    "        self.age =age\n",
    "        \n",
    "    def infos(self):\n",
    "        def p_info(func, message):\n",
    "            print(\"------------------\")\n",
    "            func(message)\n",
    "            print(self.name + \" \" + str(self.age))\n",
    "            print(\"------------------\")\n",
    "        return p_info\n",
    "    \n",
    "    @classmethod\n",
    "    def put_a_message(self,msg):\n",
    "        print(msg)\n",
    "        \n",
    "class PG:\n",
    "    def __init__(self):\n",
    "        print(\"created\")\n",
    "        \n",
    "    @P.put_a_message(self,msg)\n"
   ]
  },
  {
   "cell_type": "code",
   "execution_count": 155,
   "metadata": {},
   "outputs": [
    {
     "name": "stdout",
     "output_type": "stream",
     "text": [
      "------------------\n",
      "say something about me:  \n",
      "mario 1\n",
      "------------------\n"
     ]
    }
   ],
   "source": [
    "p = P(\"mario\",1)\n",
    "def display_msg(message):\n",
    "    print(message)\n",
    "    \n",
    "info_func = p.infos()\n",
    "info_func(display_msg,\"say something about me:  \")\n",
    "\n",
    "\n",
    "pp = P(\"matteo\",3)\n",
    "\n"
   ]
  },
  {
   "cell_type": "code",
   "execution_count": 160,
   "metadata": {},
   "outputs": [],
   "source": [
    "class Prs(P):\n",
    "    def __init__(self,name,age):\n",
    "        P.__init__(self,name,age)   \n",
    "    \n",
    "    def __call__(self,func,message):\n",
    "        print(\"********\")\n",
    "        func(message)\n",
    "        print(self.name + \" \" + str(self.age))\n",
    "        print(\"********\")\n",
    "    \n",
    "        \n",
    "        \n"
   ]
  },
  {
   "cell_type": "code",
   "execution_count": 161,
   "metadata": {},
   "outputs": [
    {
     "name": "stdout",
     "output_type": "stream",
     "text": [
      "********\n",
      "more_infos\n",
      "matteo-inh 3\n",
      "********\n"
     ]
    }
   ],
   "source": [
    "prs = Prs(\"matteo-inh\",3)\n",
    "prs(display_msg,\"more_infos\")#call method => differs from constructor"
   ]
  },
  {
   "cell_type": "code",
   "execution_count": 162,
   "metadata": {},
   "outputs": [
    {
     "name": "stdout",
     "output_type": "stream",
     "text": [
      "------------------\n",
      "more_infos:\n",
      "matteo-inh 3\n",
      "------------------\n"
     ]
    }
   ],
   "source": [
    "ff = prs.infos()\n",
    "ff(display_msg,\"more_infos:\")"
   ]
  },
  {
   "cell_type": "code",
   "execution_count": 163,
   "metadata": {},
   "outputs": [
    {
     "name": "stdout",
     "output_type": "stream",
     "text": [
      "------------------\n",
      "hello\n",
      "matteo-inh 3\n",
      "------------------\n"
     ]
    }
   ],
   "source": [
    "ff(prs.put_a_message, \"hello\")"
   ]
  },
  {
   "cell_type": "markdown",
   "metadata": {},
   "source": [
    "---------------------------------------------------------------------------------------------------------------------"
   ]
  },
  {
   "cell_type": "code",
   "execution_count": null,
   "metadata": {},
   "outputs": [],
   "source": []
  }
 ],
 "metadata": {
  "kernelspec": {
   "display_name": "Python 3",
   "language": "python",
   "name": "python3"
  },
  "language_info": {
   "codemirror_mode": {
    "name": "ipython",
    "version": 2
   },
   "file_extension": ".py",
   "mimetype": "text/x-python",
   "name": "python",
   "nbconvert_exporter": "python",
   "pygments_lexer": "ipython2",
   "version": "2.7.16"
  }
 },
 "nbformat": 4,
 "nbformat_minor": 2
}
